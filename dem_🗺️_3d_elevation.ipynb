{
  "nbformat": 4,
  "nbformat_minor": 0,
  "metadata": {
    "colab": {
      "name": "dem 🗺️ 3d elevation.ipynb",
      "provenance": [],
      "collapsed_sections": [],
      "authorship_tag": "ABX9TyPYET89C0Pf86PWEPN4I8Pu",
      "include_colab_link": true
    },
    "kernelspec": {
      "name": "python3",
      "display_name": "Python 3"
    },
    "language_info": {
      "name": "python"
    }
  },
  "cells": [
    {
      "cell_type": "markdown",
      "metadata": {
        "id": "view-in-github",
        "colab_type": "text"
      },
      "source": [
        "<a href=\"https://colab.research.google.com/github/1kaiser/-DEM-30m-90m-srtm/blob/main/dem_%F0%9F%97%BA%EF%B8%8F_3d_elevation.ipynb\" target=\"_parent\"><img src=\"https://colab.research.google.com/assets/colab-badge.svg\" alt=\"Open In Colab\"/></a>"
      ]
    },
    {
      "cell_type": "markdown",
      "source": [
        "### **🦉** introduced from >>>  [Earth Data Analytics](https://www.earthdatascience.org/tutorials/get-slope-aspect-from-digital-elevation-model/) && [elevation 1.1.3: Python script to download global terrain digital elevation models, SRTM 30m DEM and SRTM 90m DEM. ](https://pypi.org/project/elevation/)"
      ],
      "metadata": {
        "id": "1jKWm2SS6zlz"
      }
    },
    {
      "cell_type": "code",
      "source": [
        "pip install GDAL Matplotlib numpy elevation richdem"
      ],
      "metadata": {
        "colab": {
          "base_uri": "https://localhost:8080/"
        },
        "id": "RwLgUw2-tLY-",
        "outputId": "c003c911-4a1e-4810-b840-7a4bd14e609a"
      },
      "execution_count": null,
      "outputs": [
        {
          "output_type": "stream",
          "name": "stdout",
          "text": [
            "Looking in indexes: https://pypi.org/simple, https://us-python.pkg.dev/colab-wheels/public/simple/\n",
            "Requirement already satisfied: GDAL in /usr/local/lib/python3.7/dist-packages (2.2.2)\n",
            "Requirement already satisfied: Matplotlib in /usr/local/lib/python3.7/dist-packages (3.2.2)\n",
            "Requirement already satisfied: numpy in /usr/local/lib/python3.7/dist-packages (1.21.6)\n",
            "Collecting elevation\n",
            "  Downloading elevation-1.1.3-py3-none-any.whl (16 kB)\n",
            "Collecting richdem\n",
            "  Downloading richdem-0.3.4-cp37-cp37m-manylinux1_x86_64.whl (4.5 MB)\n",
            "\u001b[K     |████████████████████████████████| 4.5 MB 4.8 MB/s \n",
            "\u001b[?25hRequirement already satisfied: pyparsing!=2.0.4,!=2.1.2,!=2.1.6,>=2.0.1 in /usr/local/lib/python3.7/dist-packages (from Matplotlib) (3.0.9)\n",
            "Requirement already satisfied: cycler>=0.10 in /usr/local/lib/python3.7/dist-packages (from Matplotlib) (0.11.0)\n",
            "Requirement already satisfied: kiwisolver>=1.0.1 in /usr/local/lib/python3.7/dist-packages (from Matplotlib) (1.4.4)\n",
            "Requirement already satisfied: python-dateutil>=2.1 in /usr/local/lib/python3.7/dist-packages (from Matplotlib) (2.8.2)\n",
            "Requirement already satisfied: typing-extensions in /usr/local/lib/python3.7/dist-packages (from kiwisolver>=1.0.1->Matplotlib) (4.1.1)\n",
            "Requirement already satisfied: six>=1.5 in /usr/local/lib/python3.7/dist-packages (from python-dateutil>=2.1->Matplotlib) (1.15.0)\n",
            "Requirement already satisfied: appdirs in /usr/local/lib/python3.7/dist-packages (from elevation) (1.4.4)\n",
            "Collecting fasteners\n",
            "  Downloading fasteners-0.17.3-py3-none-any.whl (18 kB)\n",
            "Requirement already satisfied: click in /usr/local/lib/python3.7/dist-packages (from elevation) (7.1.2)\n",
            "Installing collected packages: fasteners, richdem, elevation\n",
            "Successfully installed elevation-1.1.3 fasteners-0.17.3 richdem-0.3.4\n"
          ]
        }
      ]
    },
    {
      "cell_type": "code",
      "execution_count": null,
      "metadata": {
        "id": "1nCivtLmsyye"
      },
      "outputs": [],
      "source": [
        "from osgeo import gdal\n",
        "import numpy as np\n",
        "import matplotlib \n",
        "import matplotlib.pyplot as plt\n",
        "import elevation \n",
        "import os\n",
        "import richdem as rd"
      ]
    },
    {
      "cell_type": "code",
      "source": [
        "#@title Enter Left Bottom (lat,long) Right Top (lat,long) { vertical-output: true }\n",
        "left_bottom_latitude = 31.32 #@param {type:\"raw\"}\n",
        "left_bottom_longutude = 76.04 #@param {type:\"raw\"}\n",
        "Right_Top_lattitude = 32.02 #@param {type:\"raw\"}\n",
        "Right_Top_Longitude = 77.02 #@param {type:\"raw\"}\n",
        "################################################################################\n",
        "#draw map\n",
        "%matplotlib inline\n",
        "!python -m pip install basemap\n",
        "import numpy as np\n",
        "import matplotlib.pyplot as plt\n",
        "from mpl_toolkits.basemap import Basemap\n",
        "fig = plt.figure(figsize=(8, 8))\n",
        "m = Basemap(projection='lcc', resolution=None,\n",
        "            width=1E6, height=1E6, \n",
        "            lat_0=left_bottom_latitude, lon_0=left_bottom_longutude,)\n",
        "m.etopo(scale=1.6, alpha=0.5)\n",
        "\n",
        "# Map (long, lat) to (x, y) for plotting\n",
        "x1, y1 = m(left_bottom_longutude,left_bottom_latitude)\n",
        "plt.plot(x1, y1, 'ok', markersize=5)\n",
        "plt.text(x1, y1, ' left', fontsize=12);\n",
        "\n",
        "x2, y2 = m(Right_Top_Longitude,Right_Top_lattitude)\n",
        "plt.plot(x2, y2, 'ok', markersize=5)\n",
        "plt.text(x2, y2, ' right', fontsize=12);\n",
        "################################################################################\n",
        "\n",
        "#90 m SRTM\n",
        "!eio --product SRTM3 clip -o 90m-DEM.tif --bounds ${left_bottom_latitude} ${left_bottom_longutude} ${Right_Top_lattitude}  ${Right_Top_Longitude}\n",
        "#30 m SRTM\n",
        "!eio clip -o 30m-DEM.tif --bounds ${left_bottom_latitude} ${left_bottom_longutude} ${Right_Top_lattitude} ${Right_Top_Longitude}\n",
        "!eio clean"
      ],
      "metadata": {
        "colab": {
          "base_uri": "https://localhost:8080/"
        },
        "id": "NnVEeJB7s4YA",
        "outputId": "308df08c-0955-4765-f588-e4d17c044aef"
      },
      "execution_count": null,
      "outputs": [
        {
          "output_type": "stream",
          "name": "stdout",
          "text": [
            "Looking in indexes: https://pypi.org/simple, https://us-python.pkg.dev/colab-wheels/public/simple/\n",
            "Requirement already satisfied: basemap in /usr/local/lib/python3.7/dist-packages (1.3.3)\n",
            "Requirement already satisfied: matplotlib<3.6,>=1.5 in /usr/local/lib/python3.7/dist-packages (from basemap) (3.2.2)\n",
            "Requirement already satisfied: basemap-data<1.4,>=1.3.2 in /usr/local/lib/python3.7/dist-packages (from basemap) (1.3.2)\n",
            "Requirement already satisfied: numpy<1.23,>=1.21 in /usr/local/lib/python3.7/dist-packages (from basemap) (1.21.6)\n",
            "Requirement already satisfied: pyproj<3.4.0,>=1.9.3 in /usr/local/lib/python3.7/dist-packages (from basemap) (3.2.1)\n",
            "Requirement already satisfied: pyshp<2.2,>=1.2 in /usr/local/lib/python3.7/dist-packages (from basemap) (2.1.3)\n",
            "Requirement already satisfied: pyparsing!=2.0.4,!=2.1.2,!=2.1.6,>=2.0.1 in /usr/local/lib/python3.7/dist-packages (from matplotlib<3.6,>=1.5->basemap) (3.0.9)\n",
            "Requirement already satisfied: cycler>=0.10 in /usr/local/lib/python3.7/dist-packages (from matplotlib<3.6,>=1.5->basemap) (0.11.0)\n",
            "Requirement already satisfied: kiwisolver>=1.0.1 in /usr/local/lib/python3.7/dist-packages (from matplotlib<3.6,>=1.5->basemap) (1.4.4)\n",
            "Requirement already satisfied: python-dateutil>=2.1 in /usr/local/lib/python3.7/dist-packages (from matplotlib<3.6,>=1.5->basemap) (2.8.2)\n",
            "Requirement already satisfied: typing-extensions in /usr/local/lib/python3.7/dist-packages (from kiwisolver>=1.0.1->matplotlib<3.6,>=1.5->basemap) (4.1.1)\n",
            "Requirement already satisfied: certifi in /usr/local/lib/python3.7/dist-packages (from pyproj<3.4.0,>=1.9.3->basemap) (2022.6.15)\n",
            "Requirement already satisfied: six>=1.5 in /usr/local/lib/python3.7/dist-packages (from python-dateutil>=2.1->matplotlib<3.6,>=1.5->basemap) (1.15.0)\n"
          ]
        }
      ]
    },
    {
      "cell_type": "code",
      "source": [
        "#@title Default title text { vertical-output: true }\n",
        "filename = \"30m-DEM.tif\" #@param [\"30m-DEM.tif\", \"90m-DEM.tif\"] {allow-input: true}\n",
        "gdal_data = gdal.Open(filename)\n",
        "gdal_band = gdal_data.GetRasterBand(1)\n",
        "nodataval = gdal_band.GetNoDataValue()\n",
        "\n",
        "# convert to a numpy array\n",
        "data_array = gdal_data.ReadAsArray().astype(np.float)\n",
        "data_array\n",
        "\n",
        "# replace missing values if necessary\n",
        "if np.any(data_array == nodataval):\n",
        "    data_array[data_array == nodataval] = np.nan\n",
        "\n",
        "\n",
        "#Plot out data with Matplotlib's 'contour'\n",
        "fig = plt.figure(figsize = (12, 8))\n",
        "ax = fig.add_subplot(111)\n",
        "plt.contour(data_array, cmap = \"viridis\", \n",
        "            levels = list(range(0, 5000, 100)))\n",
        "plt.title(\"Elevation Contours of Mt. Shasta\")\n",
        "cbar = plt.colorbar()\n",
        "plt.gca().set_aspect('equal', adjustable='box')\n",
        "plt.show()\n",
        "\n",
        "\n",
        "#Plot our data with Matplotlib's 'contourf'\n",
        "fig = plt.figure(figsize = (12, 8))\n",
        "ax = fig.add_subplot(111)\n",
        "plt.contourf(data_array, cmap = \"viridis\", \n",
        "            levels = list(range(0, 5000, 500)))\n",
        "plt.title(\"Elevation Contours of Mt. Shasta\")\n",
        "cbar = plt.colorbar()\n",
        "plt.gca().set_aspect('equal', adjustable='box')\n",
        "plt.show()\n",
        "\n",
        "matplotlib.rcParams['figure.figsize'] = (8, 5.5)\n",
        "\n",
        "dem_path = os.path.join(os.getcwd(), filename)\n",
        "\n",
        "shasta_dem = rd.LoadGDAL(dem_path)\n",
        "plt.imshow(shasta_dem, interpolation='none')\n",
        "plt.colorbar()\n",
        "plt.show()\n",
        "\n",
        "\n",
        "slope = rd.TerrainAttribute(shasta_dem, attrib='slope_riserun')\n",
        "rd.rdShow(slope, axes=False, cmap='magma', figsize=(8, 5.5))\n",
        "plt.show()\n",
        "\n",
        "aspect = rd.TerrainAttribute(shasta_dem, attrib='aspect')\n",
        "rd.rdShow(aspect, axes=False, cmap='jet', figsize=(8, 5.5))\n",
        "plt.show()"
      ],
      "metadata": {
        "cellView": "form",
        "id": "4-su3WrMs45c"
      },
      "execution_count": null,
      "outputs": []
    }
  ]
}